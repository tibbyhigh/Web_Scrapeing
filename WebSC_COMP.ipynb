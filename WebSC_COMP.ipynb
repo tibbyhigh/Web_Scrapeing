{
 "cell_type": "code",
 "execution_count": 6,
 "id": "355c1a3a",
 "metadata": {},
 "outputs": [],
 "source": [
  "def detect_updates():\n",
  "    #変数urlに取得したいサイトのurlをいれる\n",
  "    url = 'https://www.e-nexco.co.jp/bids/public_notice/search_service'\n",
  "    #更新比較用テキストファイルのパスを入れる\n",
  "    diff_file_path = 'C:/Users/kt/WEBスクレイピング/diff_file.txt'\n",
  "    \n",
  "    #変数resにrequestのgetメソッドでurlを取得\n",
  "    res = requests.get(url)\n",
  "    #エラーチェック\n",
  "    res.raise_for_status()\n",
  "    \n",
  "    #HTMLデータを整形\n",
  "    soup = bs4.BeautifulSoup(res.text)\n",
  "    #取得する要素を指定　（タグ名　クラス　クラス名）\n",
  "    updateinfo = soup.find(\"span\",attrs={\"class\",\"is-fcolorMain is-bold\"})\n",
  "    #上で取得してきた情報を文字データに\n",
  "    str_updateinfo = str(updateinfo)\n",
  "\n",
  "    diff_file = open(diff_file_path)\n",
  "    #過去の取得データをpast_updateinfoにいれる\n",
  "    past_updateinfo = diff_file.read()\n",
  "\n",
  "    if(str_updateinfo == past_updateinfo):\n",
  "        #変化無かったら更新なし\n",
  "        print(\"更新なし\")\n",
  "        \n",
  "    else:\n",
  "        #更新比較用テキストファイルに最新更新データを書き込む\n",
  "        diff_file = open(diff_file_path, 'w')\n",
  "        diff_file.writelines(str_updateinfo)\n",
  "        diff_file.close()\n",
  "        print(\"更新あり\")"
 ]
},
{
 "cell_type": "code",
 "execution_count": 7,
 "id": "76c9a89c",
 "metadata": {},
 "outputs": [
  {
   "name": "stdout",
   "output_type": "stream",
   "text": [
    "更新なし\n"
   ]
  }
 ],
 "source": [
  "detect_updates()"
 ]
},
{
 "cell_type": "code",
 "execution_count": null,
 "id": "15a1727f",
 "metadata": {},
 "outputs": [],
 "source": []
}
],
"metadata": {
"kernelspec": {
 "display_name": "Python 3",
 "language": "python",
 "name": "python3"
},
"language_info": {
 "codemirror_mode": {
  "name": "ipython",
  "version": 3
 },
 "file_extension": ".py",
 "mimetype": "text/x-python",
 "name": "python",
 "nbconvert_exporter": "python",
 "pygments_lexer": "ipython3",
 "version": "3.8.8"
}
},
"nbformat": 4,
"nbformat_minor": 5
}
